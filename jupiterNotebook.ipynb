{
  "metadata": {
    "kernelspec": {
      "name": "python",
      "display_name": "Python (Pyodide)",
      "language": "python"
    },
    "language_info": {
      "codemirror_mode": {
        "name": "python",
        "version": 3
      },
      "file_extension": ".py",
      "mimetype": "text/x-python",
      "name": "python",
      "nbconvert_exporter": "python",
      "pygments_lexer": "ipython3",
      "version": "3.8"
    }
  },
  "nbformat_minor": 5,
  "nbformat": 4,
  "cells": [
    {
      "id": "b4e22740-91b8-4596-8ff6-f18f643c31b2",
      "cell_type": "code",
      "source": "#Exploratory Data Analysis (EDA)\nimport pandas as pd\nimport numpy as np\nimport matplotlib.pyplot as plt\nimport seaborn as sns\ndata = pd.read_csv('train.csv')\nprint(\"\\n--- Data Info ---\")\nprint(data.info())\n\nprint(\"\\n--- Data Description ---\")\nprint(data.describe())\n\nprint(\"\\n--- Missing Values ---\")\nprint(data.isnull().sum())\nprint(\"\\n--- Value Counts ---\")\nfor col in data.select_dtypes(include='object').columns:\n    print(f\"\\n{col}:\")\n    print(data[col].value_counts())\n\nsns.pairplot(data.select_dtypes(include=[np.number]))\nplt.suptitle('Pairplot of Numerical Features', y=1.02)\nplt.show()\n\nplt.figure(figsize=(12,8))\nsns.heatmap(data.corr(), annot=True, cmap='coolwarm')\nplt.title('Correlation Heatmap')\nplt.show()\n\nnum_cols = data.select_dtypes(include=np.number).columns\nfor col in num_cols:\n    plt.figure(figsize=(8,4))\n    sns.histplot(data[col], kde=True)\n    plt.title(f'Histogram of {col}')\n    plt.show()\n\nfor col in num_cols:\n    plt.figure(figsize=(8,4))\n    sns.boxplot(x=data[col])\n    plt.title(f'Boxplot of {col}')\n    plt.show()\n\nplt.figure(figsize=(8,6))\nsns.scatterplot(x='Age', y='Fare', data=data)\nplt.title('Scatterplot of Age vs Fare')\nplt.show()\n\n# Save Notebook as PDF (Optional in JupyterLab)\n# You can use File -> Export Notebook As -> PDF\n\n",
      "metadata": {
        "trusted": true
      },
      "outputs": [],
      "execution_count": null
    }
  ]
}